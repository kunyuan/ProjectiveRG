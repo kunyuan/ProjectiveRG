{
 "cells": [
  {
   "cell_type": "code",
   "execution_count": 1,
   "metadata": {},
   "outputs": [],
   "source": [
    "using Revise"
   ]
  },
  {
   "cell_type": "code",
   "execution_count": 2,
   "metadata": {},
   "outputs": [
    {
     "name": "stderr",
     "output_type": "stream",
     "text": [
      "┌ Info: Precompiling QuantumStatistics [08acf9d9-9812-4184-bb82-ed7be26454cb]\n",
      "└ @ Base loading.jl:1260\n",
      "┌ Warning: Package QuantumStatistics does not have Cuba in its dependencies:\n",
      "│ - If you have QuantumStatistics checked out for development and have\n",
      "│   added Cuba as a dependency but haven't updated your primary\n",
      "│   environment's manifest file, try `Pkg.resolve()`.\n",
      "│ - Otherwise you may need to report an issue with QuantumStatistics\n",
      "└ Loading Cuba into QuantumStatistics from project dependency, future warnings for QuantumStatistics are suppressed.\n"
     ]
    }
   ],
   "source": [
    "using QuantumStatistics\n",
    "using Cuba"
   ]
  },
  {
   "cell_type": "code",
   "execution_count": 4,
   "metadata": {},
   "outputs": [
    {
     "name": "stdout",
     "output_type": "stream",
     "text": [
      "kF: 0.38383165853550255\n",
      "NF: 0.01944513898110937\n",
      "q_TF: 0.6990777111084903\n"
     ]
    }
   ],
   "source": [
    "rs=5\n",
    "kF=(9π/4)^(1/3)/rs\n",
    "EF=kF^2\n",
    "NF=kF/2/π^2\n",
    "qTF=sqrt(NF*8π)\n",
    "println(\"kF: \", kF)\n",
    "println(\"NF: \", NF)\n",
    "println(\"q_TF: \", qTF)"
   ]
  },
  {
   "cell_type": "code",
   "execution_count": 327,
   "metadata": {},
   "outputs": [
    {
     "data": {
      "text/plain": [
       "0.19191582926775128"
      ]
     },
     "execution_count": 327,
     "metadata": {},
     "output_type": "execute_result"
    }
   ],
   "source": [
    "kf(x)=(9π/4)^(1/3)/x\n",
    "kf(10)"
   ]
  },
  {
   "cell_type": "code",
   "execution_count": 318,
   "metadata": {},
   "outputs": [
    {
     "data": {
      "text/plain": [
       "Rm (generic function with 1 method)"
      ]
     },
     "execution_count": 318,
     "metadata": {},
     "output_type": "execute_result"
    }
   ],
   "source": [
    "function Pi0(q)\n",
    "    x=q/2/kF\n",
    "    if abs(x)<1e-8\n",
    "        return -NF\n",
    "    end\n",
    "    \n",
    "    if abs(x-1)>1.0e-8\n",
    "        return -NF*(1/2-(x^2-1)/4x*log(abs((1+x)/(1-x))))\n",
    "    else\n",
    "        return -NF/2.0\n",
    "    end \n",
    "end\n",
    "\n",
    "function Rp(fp, q)\n",
    "    #return (8π-fp*q^2)/(q^2-(8π-fp*q^2)*Pi0(q))\n",
    "    return (8π-fp*q^2)/(q^2-(8π-fp*q^2)*Pi0(0.0))\n",
    "end\n",
    "\n",
    "function Rm(fm, q)\n",
    "    return -fm/(1+fm*Pi0(q))\n",
    "end"
   ]
  },
  {
   "cell_type": "code",
   "execution_count": 319,
   "metadata": {},
   "outputs": [
    {
     "data": {
      "text/plain": [
       "AveRm (generic function with 1 method)"
      ]
     },
     "execution_count": 319,
     "metadata": {},
     "output_type": "execute_result"
    }
   ],
   "source": [
    "function AveRp(fp)\n",
    "    function integrand(x)\n",
    "        θ=x*π\n",
    "        q=2*(kF)*sin(θ/2)\n",
    "        return Rp(fp, q)*sin(θ)*π*2π/(4π)\n",
    "        #return sin(θ)*π/2\n",
    "    end\n",
    "    \n",
    "    result, error= Cuba.cuhre((x,f) -> f[1] = integrand(x[1]))\n",
    "    #println(\" Average Rp: \", result[1], \" ± \", error[1])\n",
    "    return result[1]\n",
    "end\n",
    "\n",
    "function AveRm(fm)\n",
    "    function integrand(x)\n",
    "        θ=x*π\n",
    "        q=2*(kF)*sin(θ/2)\n",
    "        return Rm(fm, q)*sin(θ)*π*2π/(4π)\n",
    "        #return sin(θ)*π/2\n",
    "    end\n",
    "    \n",
    "    result, error= Cuba.cuhre((x,f) -> f[1] = integrand(x[1]))\n",
    "    #println(\" Average Rm: \", result[1], \" ± \", error[1])\n",
    "    return result[1]\n",
    "end"
   ]
  },
  {
   "cell_type": "code",
   "execution_count": 320,
   "metadata": {},
   "outputs": [
    {
     "data": {
      "text/plain": [
       "0.7825694125629311"
      ]
     },
     "execution_count": 320,
     "metadata": {},
     "output_type": "execute_result"
    }
   ],
   "source": [
    "AveRp(0.0)*NF"
   ]
  },
  {
   "cell_type": "code",
   "execution_count": 321,
   "metadata": {},
   "outputs": [
    {
     "data": {
      "text/plain": [
       "0.9314436567286085"
      ]
     },
     "execution_count": 321,
     "metadata": {},
     "output_type": "execute_result"
    }
   ],
   "source": [
    "k=kF/2\n",
    "2π/k^2*log(abs((qTF^2+4k^2)/qTF^2))*NF"
   ]
  },
  {
   "cell_type": "code",
   "execution_count": 322,
   "metadata": {},
   "outputs": [
    {
     "name": "stdout",
     "output_type": "stream",
     "text": [
      "80.48997883976908\n",
      "Exact: 80.48997883916938\n",
      "-1.0077956718635224\n"
     ]
    }
   ],
   "source": [
    "println(AveRp(0.0))\n",
    "println(\"Exact: \", 2π/kF^2*log(abs((qTF^2+4kF^2)/qTF^2)))\n",
    "println(AveRm(1.0))"
   ]
  },
  {
   "cell_type": "code",
   "execution_count": 323,
   "metadata": {},
   "outputs": [
    {
     "data": {
      "text/plain": [
       "iteration (generic function with 1 method)"
      ]
     },
     "execution_count": 323,
     "metadata": {},
     "output_type": "execute_result"
    }
   ],
   "source": [
    "function iteration(fp)\n",
    "    oldfp=fp\n",
    "    oldfm=0.0\n",
    "    i=0\n",
    "    while(i<10)\n",
    "        i=i+1\n",
    "        aRp=AveRp(oldfp)\n",
    "        aRm=-aRp\n",
    "        newfm=(oldfp-aRm)/3.0\n",
    "        newfp=3*newfm+AveRm(newfm)\n",
    "        println(\"f+:\", -newfp*NF, \"    f-: \",-newfm*NF)\n",
    "        oldfp=newfp\n",
    "        oldfm=newfm\n",
    "    end\n",
    "end"
   ]
  },
  {
   "cell_type": "code",
   "execution_count": 324,
   "metadata": {},
   "outputs": [
    {
     "name": "stdout",
     "output_type": "stream",
     "text": [
      "f+:-0.4527743538107179    f-: -0.26085647085431035\n",
      "f+:-0.6109618032617762    f-: -0.40153846943568394\n",
      "f+:-0.642899065126661    f-: -0.44988375149049703\n",
      "f+:-0.6475381197563076    f-: -0.4595809005232619\n",
      "f+:-0.6481578675913215    f-: -0.4609875482807726\n",
      "f+:-0.6482396089229524    f-: -0.46117543005287487\n",
      "f+:-0.6482503715934993    f-: -0.4612002099676151\n",
      "f+:-0.6482517883642405    f-: -0.4612034726637226\n",
      "f+:-0.6482519748587715    f-: -0.4612039021565915\n",
      "f+:-0.6482519994076077    f-: -0.46120395869224984\n"
     ]
    }
   ],
   "source": [
    "iteration(0.0)"
   ]
  },
  {
   "cell_type": "code",
   "execution_count": null,
   "metadata": {},
   "outputs": [],
   "source": []
  }
 ],
 "metadata": {
  "kernelspec": {
   "display_name": "Julia 1.4.2",
   "language": "julia",
   "name": "julia-1.4"
  },
  "language_info": {
   "file_extension": ".jl",
   "mimetype": "application/julia",
   "name": "julia",
   "version": "1.4.2"
  }
 },
 "nbformat": 4,
 "nbformat_minor": 4
}
