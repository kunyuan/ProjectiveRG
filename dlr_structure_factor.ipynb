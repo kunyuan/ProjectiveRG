{
 "cells": [
  {
   "cell_type": "code",
   "execution_count": 11,
   "metadata": {},
   "outputs": [],
   "source": [
    "import numpy as np\n",
    "import scipy.linalg as linalg\n",
    "import scipy.linalg.interpolative as inter\n",
    "import matplotlib.pyplot as plt"
   ]
  },
  {
   "cell_type": "code",
   "execution_count": 12,
   "metadata": {},
   "outputs": [],
   "source": [
    "def kernelT(t, w, beta):\n",
    "    #print(t)\n",
    "    return np.exp(-w*t)+np.exp(-w*(beta-t))\n",
    "\n",
    "def getKerT(tlist, wlist, beta):\n",
    "    tlist=np.array(tlist)\n",
    "    wlist=np.array(wlist)\n",
    "    KerT=np.zeros([len(tlist), len(wlist)])\n",
    "    #for ti, t in enumerate(tlist):\n",
    "    for wi, w in enumerate(wlist):\n",
    "        KerT[:, wi]= kernelT(tlist, w, beta)\n",
    "    return KerT\n",
    "\n",
    "def DLRt(KerT, k):\n",
    "    it, proj = inter.interp_decomp(KerT.T, k)\n",
    "    tGrid=np.sort(it[:k])\n",
    "    return tGrid"
   ]
  },
  {
   "cell_type": "code",
   "execution_count": 13,
   "metadata": {},
   "outputs": [],
   "source": [
    "def kernelW(nlist, w, beta):\n",
    "    wn=2.0*np.pi*nlist/beta\n",
    "    x=w*beta\n",
    "    if x<1.0e-5:\n",
    "        kernel=np.zeros(len(nlist))\n",
    "        for ni, flag in enumerate((nlist==0)):\n",
    "            if flag:\n",
    "                kernel[ni]=(2.0-x)*beta\n",
    "            else:\n",
    "                kernel[ni]=2.0*w*(x-x*x/2.0)/(wn[ni]**2+w**2)\n",
    "            return kernel\n",
    "    else:\n",
    "        return 2.0*w*(1.0-np.exp(-x))/(wn**2+w**2)\n",
    "    \n",
    "def getKerW(nlist, wlist, beta):\n",
    "    nlist=np.array(nlist)\n",
    "    wlist=np.array(wlist)\n",
    "    KerW=np.zeros([len(nlist), len(wlist)])\n",
    "    #for ni, n in enumerate(nlist):\n",
    "    for wi, w in enumerate(wlist):\n",
    "        KerW[:, wi]= kernelW(nlist, w, beta)\n",
    "        \n",
    "    return KerW\n",
    "\n",
    "def DLRwn(KerW, eps):\n",
    "    k, idx, proj = inter.interp_decomp(KerW, eps)\n",
    "    wGrid=np.sort(idx[:k])\n",
    "    iWn, proj = inter.interp_decomp(KerW[:, idx[:k]].T, k)\n",
    "    wnGrid=np.sort(iWn[:k])\n",
    "    return k, wGrid, wnGrid"
   ]
  },
  {
   "cell_type": "code",
   "execution_count": 14,
   "metadata": {},
   "outputs": [
    {
     "name": "stdout",
     "output_type": "stream",
     "text": [
      "Nt:  15000\n",
      "Nwn:  2387\n"
     ]
    }
   ],
   "source": [
    "Wmax=6.0\n",
    "wN=1024\n",
    "dW=Wmax/wN\n",
    "beta=25.0\n",
    "Nt=int(beta*Wmax*100)\n",
    "Nwn=int(Wmax*beta/2.0/np.pi*100)\n",
    "eps=1.0e-16\n",
    "print(\"Nt: \", Nt)\n",
    "print(\"Nwn: \", Nwn)"
   ]
  },
  {
   "cell_type": "code",
   "execution_count": 15,
   "metadata": {},
   "outputs": [],
   "source": [
    "nlist=range(Nwn)\n",
    "wlist=[wi*dW for wi in range(wN)]\n",
    "KerW=getKerW(nlist, wlist, beta)"
   ]
  },
  {
   "cell_type": "code",
   "execution_count": 16,
   "metadata": {},
   "outputs": [
    {
     "name": "stdout",
     "output_type": "stream",
     "text": [
      "rank:  38\n",
      "freq grids:  [0.00000000e+00 5.85937500e-03 1.17187500e-02 1.75781250e-02\n",
      " 2.34375000e-02 2.92968750e-02 3.51562500e-02 4.10156250e-02\n",
      " 4.68750000e-02 5.27343750e-02 5.85937500e-02 6.44531250e-02\n",
      " 7.03125000e-02 7.61718750e-02 8.20312500e-02 1.28906250e-01\n",
      " 2.05078125e-01 2.92968750e-01 4.51171875e-01 4.98046875e-01\n",
      " 6.38671875e-01 8.14453125e-01 1.04296875e+00 1.30664062e+00\n",
      " 1.61132812e+00 1.94531250e+00 2.31445312e+00 2.71875000e+00\n",
      " 2.96484375e+00 3.24023438e+00 3.85546875e+00 4.21875000e+00\n",
      " 4.62304688e+00 5.03320312e+00 5.44335938e+00 5.79492188e+00\n",
      " 5.92382812e+00 5.99414062e+00]\n",
      "Matfreq grids:  [  0   1   2   3   4   5   6   7   8   9  10  11  12  13  14  15  16  17\n",
      "  18  19  20  21  22  24  25  26  27  28  30  31  32  33  36  39  49  68\n",
      " 116 189]\n"
     ]
    },
    {
     "data": {
      "image/png": "[encoded data removed]",
      "text/plain": [
       "<Figure size 432x288 with 1 Axes>"
      ]
     },
     "metadata": {
      "needs_background": "light"
     },
     "output_type": "display_data"
    }
   ],
   "source": [
    "k, wGrid, wnGrid=DLRwn(KerW, eps)\n",
    "#wGrid=wGrid*dW\n",
    "print(\"rank: \", k)\n",
    "print(\"freq grids: \", wGrid*dW)\n",
    "print(\"Matfreq grids: \", wnGrid)\n",
    "plt.figure()\n",
    "plt.plot(wGrid)\n",
    "plt.show()"
   ]
  },
  {
   "cell_type": "code",
   "execution_count": 7,
   "metadata": {},
   "outputs": [],
   "source": [
    "Nt=100000\n",
    "dt=beta/(Nt-1)\n",
    "tlist=[ti*dt for ti in range(Nt)]\n",
    "KerT=getKerT(tlist, wGrid*dW, beta)"
   ]
  },
  {
   "cell_type": "code",
   "execution_count": 8,
   "metadata": {},
   "outputs": [
    {
     "name": "stdout",
     "output_type": "stream",
     "text": [
      "Tau grids: [8.50008500e-03 7.55007550e-02 1.35001350e-01 1.79501795e-01\n",
      " 5.15755158e-01 6.58381584e-01 8.88133881e-01 9.30259303e-01\n",
      " 1.67676677e+00 2.34577346e+00 2.40477405e+00 2.73615236e+00\n",
      " 3.77528775e+00 5.88255883e+00 7.63807638e+00 8.20033200e+00\n",
      " 9.20084201e+00 9.88534885e+00 1.06527315e+01 1.15336153e+01\n",
      " 1.25000000e+01 1.34663847e+01 1.43472685e+01 1.51146511e+01\n",
      " 1.57991580e+01 1.67996680e+01 1.73619236e+01 1.91174412e+01\n",
      " 2.12247122e+01 2.22638476e+01 2.25952260e+01 2.26542265e+01\n",
      " 2.33232332e+01 2.40697407e+01 2.41118661e+01 2.43416184e+01\n",
      " 2.44842448e+01 2.48204982e+01 2.48649986e+01 2.49244992e+01\n",
      " 2.49914999e+01]\n"
     ]
    }
   ],
   "source": [
    "tGrid=DLRt(KerT, k)\n",
    "tGrid=tGrid*dt\n",
    "tGrid=(tGrid+beta-tGrid[::-1])/2.0\n",
    "print(\"Tau grids:\", tGrid)"
   ]
  },
  {
   "cell_type": "code",
   "execution_count": null,
   "metadata": {},
   "outputs": [],
   "source": []
  },
  {
   "cell_type": "code",
   "execution_count": null,
   "metadata": {},
   "outputs": [],
   "source": []
  }
 ],
 "metadata": {
  "@webio": {
   "lastCommId": null,
   "lastKernelId": null
  },
  "kernelspec": {
   "display_name": "Python 3",
   "language": "python",
   "name": "python3"
  },
  "language_info": {
   "codemirror_mode": {
    "name": "ipython",
    "version": 3
   },
   "file_extension": ".py",
   "mimetype": "text/x-python",
   "name": "python",
   "nbconvert_exporter": "python",
   "pygments_lexer": "ipython3",
   "version": "3.7.6"
  }
 },
 "nbformat": 4,
 "nbformat_minor": 4
}
