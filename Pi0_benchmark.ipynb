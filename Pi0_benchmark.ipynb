{
 "cells": [
  {
   "cell_type": "code",
   "execution_count": 1,
   "metadata": {},
   "outputs": [],
   "source": [
    "import numpy as np\n",
    "import matplotlib.pyplot as plt\n",
    "import dlr_boson as dlr\n",
    "import scipy.linalg as slinalg\n",
    "from scipy.linalg import lu_factor, lu_solve"
   ]
  },
  {
   "cell_type": "code",
   "execution_count": 2,
   "metadata": {},
   "outputs": [],
   "source": [
    "def kernel(E, tau, beta):\n",
    "    x = beta*E / 2\n",
    "    y = 2.0*tau / beta - 1\n",
    "    if -100.0 < x < 100.0:\n",
    "        G = np.exp(-x * y) / (2 * np.cosh(x))\n",
    "    elif x >= 100.0:\n",
    "        G = np.exp(-x * (y + 1))\n",
    "    else: # x<=-100.0\n",
    "        G = np.exp(x * (1 - y))\n",
    "    return G"
   ]
  },
  {
   "cell_type": "code",
   "execution_count": 3,
   "metadata": {},
   "outputs": [],
   "source": [
    "def Polarisi(q,w,EF):\n",
    "    \"\"\" Polarization P(q,iW) on imaginary axis. Note that the result is real.\n",
    "        It works on arrays of frequency, i.e., w can be array of bosonic Matsubara points.\n",
    "    \"\"\"\n",
    "    kF = np.sqrt(EF)\n",
    "    q2 = q**2\n",
    "    kFq = 2*kF*q\n",
    "    D = 1./(8.*kF*q)\n",
    "    \n",
    "    if type(w)==np.ndarray:\n",
    "        res = zeros(len(w),dtype=float)\n",
    "        \n",
    "        # careful for small q or large w\n",
    "        is_w_large = w > 20*(q2+kFq) # for w[i>=iw_start] we should use power expansion\n",
    "        iw_start = len(w)  # if this was newer true, is_w_large contains only False => iw_start=len(w)\n",
    "        if is_w_large[-1] : # If at least the last frequency is larger than the cutoff, we can find the index\n",
    "            iw_start = argmax( is_w_large )\n",
    "        \n",
    "        # if w < cutoff use exact expression\n",
    "        iw = w[:iw_start]*1j\n",
    "        wmq2 = iw-q2\n",
    "        wpq2 = iw+q2\n",
    "        C1 = np.log(wmq2-kFq)-np.log(wmq2+kFq)\n",
    "        C2 = np.log(wpq2-kFq)-np.log(wpq2+kFq)\n",
    "        res[:iw_start] = np.real( -kF/(4*np.pi**2) * (1. - D*(wmq2**2/q**2-4*EF)*C1 + D*(wpq2**2/q**2-4*EF)*C2) )\n",
    "        # if w < cutoff use proper power expansion\n",
    "        b2 = q2 * ( q2 + 12./5. * EF ) # b2==b^2\n",
    "        c = 2*EF*kF*q2/(3*pi**2)\n",
    "        res[iw_start:] = -c/(w[iw_start:]**2 + b2)\n",
    "    else:\n",
    "        # careful for small q or large w\n",
    "        if  w <= 20*(q2+kFq) :\n",
    "            iw = w*1j\n",
    "            wmq2 = iw-q2\n",
    "            wpq2 = iw+q2\n",
    "            C1 = np.log(wmq2-kFq)-np.log(wmq2+kFq)\n",
    "            C2 = np.log(wpq2-kFq)-np.log(wpq2+kFq)\n",
    "            res = np.real( -kF/(4*np.pi**2) * (1. - D*(wmq2**2/q**2-4*EF)*C1 + D*(wpq2**2/q**2-4*EF)*C2) )\n",
    "        else:\n",
    "            b2 = q2 * ( q2 + 12./5. * EF )\n",
    "            c = 2*EF*kF*q2/(3*np.pi**2)\n",
    "            res = -c/(w**2 + b2)\n",
    "    return res"
   ]
  },
  {
   "cell_type": "code",
   "execution_count": 4,
   "metadata": {},
   "outputs": [
    {
     "data": {
      "text/plain": [
       "-0.05066016964745978"
      ]
     },
     "execution_count": 4,
     "metadata": {},
     "output_type": "execute_result"
    }
   ],
   "source": [
    "Polarisi(0.01, 0.0, 1.0)"
   ]
  },
  {
   "cell_type": "code",
   "execution_count": 43,
   "metadata": {},
   "outputs": [
    {
     "name": "stdout",
     "output_type": "stream",
     "text": [
      "Nt:  100000\n",
      "Nwn:  15915\n",
      "0 0.0 0.0010000100001050782 0\n",
      "1 0.038 1.362013620136203 1\n",
      "2 0.061 3.755037550375505 2\n",
      "3 0.093 5.377053770537707 3\n",
      "4 0.132 10.79810798107981 4\n",
      "5 0.182 13.840638406384066 5\n",
      "6 0.24 17.202672026720272 6\n",
      "7 0.3 24.86574865748657 7\n",
      "8 0.393 30.706307063070632 8\n",
      "9 0.5 32.39932399323993 9\n",
      "10 0.642 38.37588375883759 10\n",
      "11 0.788 39.33889338893389 13\n",
      "12 0.9480000000000001 42.36042360423603 15\n",
      "13 1.154 49.08849088490885 18\n",
      "14 1.379 50.91150911509115 21\n",
      "15 1.699 57.63957639576396 25\n",
      "16 2.164 60.66110661106612 29\n",
      "17 2.736 61.62411624116241 35\n",
      "18 3.085 67.60067600676007 42\n",
      "19 3.515 69.29369293692936 54\n",
      "20 4.359 75.13425134251344 68\n",
      "21 5.0760000000000005 82.79732797327974 92\n",
      "22 5.848 86.15936159361593 123\n",
      "23 7.415 89.20189201892018 151\n",
      "24 8.282 94.62294622946229 188\n",
      "25 9.028 96.24496244962448 248\n",
      "26 9.693 98.6379863798638 339\n",
      "27 9.999 99.9989999899999 584\n"
     ]
    }
   ],
   "source": [
    "Wmax = 10.0\n",
    "Nw = 10000\n",
    "dW = Wmax/Nw\n",
    "beta = 100.0\n",
    "Nt = int(beta*Wmax*100)\n",
    "Nwn = int(Wmax*beta/2.0/np.pi*100)\n",
    "eps = 1.0e-12\n",
    "print(\"Nt: \", Nt)\n",
    "print(\"Nwn: \", Nwn)\n",
    "k, wGrid, wnGrid, tGrid = dlr.getDLR(beta, Wmax, Nw, Nwn, Nt, eps)\n",
    "for i in range(k):\n",
    "    print(i, wGrid[i], tGrid[i], wnGrid[i])"
   ]
  },
  {
   "cell_type": "code",
   "execution_count": 44,
   "metadata": {},
   "outputs": [
    {
     "name": "stdout",
     "output_type": "stream",
     "text": [
      "[-0.0495916  -0.0106113  -0.00364145 -0.00174987 -0.0010139  -0.00065815\n",
      " -0.00046064 -0.00034005 -0.00026116 -0.00020679]\n"
     ]
    },
    {
     "data": {
      "image/png": "[encoded data removed]",
      "text/plain": [
       "<Figure size 432x288 with 1 Axes>"
      ]
     },
     "metadata": {
      "needs_background": "light"
     },
     "output_type": "display_data"
    }
   ],
   "source": [
    "#wnlist=range(1000)\n",
    "q=0.5\n",
    "EF=1.0\n",
    "P=np.array([Polarisi(q, wn, EF) for wn in wnGrid])\n",
    "print(P[:10])\n",
    "plt.figure()\n",
    "plt.plot(wnGrid[:10], P[:10])\n",
    "plt.show()"
   ]
  },
  {
   "cell_type": "code",
   "execution_count": 45,
   "metadata": {},
   "outputs": [
    {
     "data": {
      "image/png": "[encoded data removed]",
      "text/plain": [
       "<Figure size 432x288 with 1 Axes>"
      ]
     },
     "metadata": {
      "needs_background": "light"
     },
     "output_type": "display_data"
    },
    {
     "name": "stdout",
     "output_type": "stream",
     "text": [
      "P(iwn) difference:  1.3552527156068805e-18\n"
     ]
    },
    {
     "data": {
      "image/png": "[encoded data removed]",
      "text/plain": [
       "<Figure size 432x288 with 1 Axes>"
      ]
     },
     "metadata": {
      "needs_background": "light"
     },
     "output_type": "display_data"
    }
   ],
   "source": [
    "transfer=dlr.getKerW(wnGrid, wGrid, beta)\n",
    "lu, piv = lu_factor(transfer)\n",
    "# calculate the dlr coefficients\n",
    "coeff = lu_solve((lu, piv), P)\n",
    "plt.figure()\n",
    "plt.plot(coeff)\n",
    "plt.show()\n",
    "\n",
    "Pfit=transfer @ coeff\n",
    "print(\"P(iwn) difference: \", np.max(Pfit - P))\n",
    "plt.figure()\n",
    "plt.plot(wnGrid[:10], P[:10])\n",
    "plt.plot(wnGrid[:10], Pfit[:10])\n",
    "plt.show()"
   ]
  },
  {
   "cell_type": "code",
   "execution_count": 46,
   "metadata": {},
   "outputs": [
    {
     "name": "stdout",
     "output_type": "stream",
     "text": [
      "P(iwn) difference:  1.7024267221028215e-12\n"
     ]
    },
    {
     "data": {
      "image/png": "[encoded data removed]",
      "text/plain": [
       "<Figure size 432x288 with 1 Axes>"
      ]
     },
     "metadata": {
      "needs_background": "light"
     },
     "output_type": "display_data"
    }
   ],
   "source": [
    "wnlist=np.array(range(10000))\n",
    "kernel=dlr.getKerW(wnlist, wGrid, beta)\n",
    "Pfine=np.array([Polarisi(q, wn, EF) for wn in wnlist])\n",
    "Pfitfine=kernel @ coeff\n",
    "print(\"P(iwn) difference: \", np.max(Pfitfine - Pfine))\n",
    "plt.figure()\n",
    "plt.plot(wnGrid[:10], P[:10])\n",
    "plt.plot(wnGrid[:10], Pfit[:10])\n",
    "plt.show()"
   ]
  },
  {
   "cell_type": "code",
   "execution_count": 104,
   "metadata": {},
   "outputs": [
    {
     "data": {
      "text/plain": [
       "(-0.013961605793338067, 1.489994555861629e-08)"
      ]
     },
     "execution_count": 104,
     "metadata": {},
     "output_type": "execute_result"
    }
   ],
   "source": [
    "from scipy import integrate\n",
    "\n",
    "#f = lambda y, x: x*y**2\n",
    "\n",
    "#def f(y, x):\n",
    "#    return -kernel(y**2, 5.0, 25.0)*kernel(y**2, 20.0, 25.0)\n",
    "\n",
    "def Green(E, tau, beta):\n",
    "    x = beta*E / 2\n",
    "    y = 2.0*tau / beta - 1\n",
    "    if -100.0 < x < 100.0:\n",
    "        G = np.exp(-x * y) / (2 * np.cosh(x))\n",
    "    elif x >= 100.0:\n",
    "        G = np.exp(-x * (y + 1))\n",
    "    else: # x<=-100.0\n",
    "        G = np.exp(x * (1 - y))\n",
    "    return G\n",
    "\n",
    "def Polar(k, theta, q, tau, beta, kF):\n",
    "    return -Green(k*k-kF*kF, 5.0, 25.0)*Green((q+k*np.cos(theta))**2+k**2*np.sin(theta)**2-kF*kF, 20.0, 25.0)*k*k*np.sin(theta)/(2.0*np.pi)**2*2*25.0\n",
    "\n",
    "#f=lambda y, x: -kernel(y**2, 5.0, 25.0)*kernel(y**2, 20.0, 25.0)\n",
    "#kF=1.919\n",
    "#f=lambda y, x: -Green(y*y-kF*kF, 5.0, 25.0)*Green(y*y-kF*kF, 20.0, 25.0)*y*y*np.sin(x)/(2.0*np.pi)**2*2*25.0\n",
    "\n",
    "integrate.dblquad(Polar, 0, np.pi, lambda x: 0, lambda x: 15.0*kF*kF, args=(0.2, 1.0, 25.0, 1.919))\n",
    "\n",
    "#integrate.dblquad(Polar, 0, np.pi, lambda x: 0, lambda x: 10.0*kF*kF)\n",
    "\n",
    "#def Polarization(q, n, beta):\n",
    "    "
   ]
  },
  {
   "cell_type": "code",
   "execution_count": 131,
   "metadata": {},
   "outputs": [
    {
     "data": {
      "image/png": "[encoded data removed]",
      "text/plain": [
       "<Figure size 432x288 with 1 Axes>"
      ]
     },
     "metadata": {
      "needs_background": "light"
     },
     "output_type": "display_data"
    }
   ],
   "source": [
    "def Polar(theta, k, q, tau, beta, kF):\n",
    "    return -Green(k*k-kF*kF, 5.0, 25.0)*Green((q+k*np.cos(theta))**2+k**2*np.sin(theta)**2-kF*kF, 20.0, 25.0)*k*k*np.sin(theta)/(2.0*np.pi)**2*2*25.0\n",
    "#def Polar(theta, k, q, tau, beta, kF):\n",
    "#    return -Green(k*k-kF*kF, 5.0, 25.0)*Green(k*k-kF*kF, 20.0, 25.0)*k*k*np.sin(theta)/(2.0*np.pi)**2*2*25.0\n",
    "\n",
    "klist=np.array(range(1000))*1.919*2/1000\n",
    "polar=[integrate.quad(Polar, 0.0, np.pi, args=(k, 2.0, 0.0, 25.0, 1.919)) for k in klist]\n",
    "\n",
    "plt.figure()\n",
    "plt.plot(klist, polar)\n",
    "plt.show()\n",
    "\n",
    "#integrate.quad(Polar, 0.0, np.pi, args=(1.919, 0.5, 1.0, 25.0, 1.919))"
   ]
  },
  {
   "cell_type": "code",
   "execution_count": 75,
   "metadata": {},
   "outputs": [
    {
     "data": {
      "text/plain": [
       "(-0.09721295642810059, 1.0948723621077593e-09)"
      ]
     },
     "execution_count": 75,
     "metadata": {},
     "output_type": "execute_result"
    }
   ],
   "source": [
    "f=lambda y: -Green(y*y-kF*kF, 5.0, 25.0)*Green(y*y-kF*kF, 20.0, 25.0)*y*y/(2.0*np.pi)**3*4*np.pi*2*25.0\n",
    "integrate.quad(f, 0.0, 10.0*kF*kF)"
   ]
  },
  {
   "cell_type": "code",
   "execution_count": 107,
   "metadata": {},
   "outputs": [
    {
     "ename": "SyntaxError",
     "evalue": "Missing parentheses in call to 'print'. Did you mean print(\"Using n = \", nmc)? (<ipython-input-107-74f6beaf055b>, line 40)",
     "output_type": "error",
     "traceback": [
      "\u001b[0;36m  File \u001b[0;32m\"<ipython-input-107-74f6beaf055b>\"\u001b[0;36m, line \u001b[0;32m40\u001b[0m\n\u001b[0;31m    print \"Using n = \", nmc\u001b[0m\n\u001b[0m                     ^\u001b[0m\n\u001b[0;31mSyntaxError\u001b[0m\u001b[0;31m:\u001b[0m Missing parentheses in call to 'print'. Did you mean print(\"Using n = \", nmc)?\n"
     ]
    }
   ],
   "source": [
    "import mcint\n",
    "import random\n",
    "import math\n",
    "\n",
    "def w(r, theta, phi, alpha, beta, gamma):\n",
    "    return(-math.log(theta * beta))\n",
    "\n",
    "def integrand(x):\n",
    "    r     = x[0]\n",
    "    theta = x[1]\n",
    "    alpha = x[2]\n",
    "    beta  = x[3]\n",
    "    gamma = x[4]\n",
    "    phi   = x[5]\n",
    "\n",
    "    k = 1.\n",
    "    T = 1.\n",
    "    ww = w(r, theta, phi, alpha, beta, gamma)\n",
    "    return (math.exp(-ww/(k*T)) - 1.)*r*r*math.sin(beta)*math.sin(theta)\n",
    "\n",
    "def sampler():\n",
    "    while True:\n",
    "        r     = random.uniform(0.,1.)\n",
    "        theta = random.uniform(0.,2.*math.pi)\n",
    "        alpha = random.uniform(0.,2.*math.pi)\n",
    "        beta  = random.uniform(0.,2.*math.pi)\n",
    "        gamma = random.uniform(0.,2.*math.pi)\n",
    "        phi   = random.uniform(0.,math.pi)\n",
    "        yield (r, theta, alpha, beta, gamma, phi)\n",
    "\n",
    "\n",
    "domainsize = math.pow(2*math.pi,4)*math.pi*1\n",
    "expected = 16*math.pow(math.pi,5)/3.\n",
    "\n",
    "for nmc in [1000, 10000, 100000, 1000000, 10000000, 100000000]:\n",
    "    random.seed(1)\n",
    "    result, error = mcint.integrate(integrand, sampler(), measure=domainsize, n=nmc)\n",
    "    diff = abs(result - expected)\n",
    "\n",
    "    print \"Using n = \", nmc\n",
    "    print \"Result = \", result, \"estimated error = \", error\n",
    "    print \"Known result = \", expected, \" error = \", diff, \" = \", 100.*diff/expected, \"%\"\n",
    "    print \" \""
   ]
  },
  {
   "cell_type": "code",
   "execution_count": 93,
   "metadata": {},
   "outputs": [
    {
     "data": {
      "text/plain": [
       "array([9.35233688e+00, 8.79255038e+00, 3.78777266e+00, 2.96053948e+00,\n",
       "       1.56457255e+00, 9.78498222e-01, 5.53836379e-01, 3.12567980e-01,\n",
       "       1.87341617e-01, 9.75573112e-02, 5.56524083e-02, 2.77148944e-02,\n",
       "       1.50116830e-02, 7.64613408e-03, 3.85592187e-03, 1.93492500e-03,\n",
       "       9.85016418e-04, 4.52897706e-04, 2.14140184e-04, 1.02341428e-04,\n",
       "       4.92803587e-05, 2.16659899e-05, 1.01087001e-05, 4.28828633e-06,\n",
       "       1.91607507e-06, 8.54919077e-07, 3.75250069e-07, 1.47712648e-07,\n",
       "       5.97019802e-08, 2.34843359e-08, 9.65421676e-09, 3.60403050e-09,\n",
       "       1.58369855e-09, 5.32362829e-10, 2.29457507e-10, 8.18463008e-11,\n",
       "       2.89821412e-11, 1.21248443e-11, 3.54257810e-12, 1.40468766e-12,\n",
       "       4.17550347e-13, 7.63398797e-14, 3.49054231e-14])"
      ]
     },
     "execution_count": 93,
     "metadata": {},
     "output_type": "execute_result"
    }
   ],
   "source": [
    "import numpy.linalg as linalg\n",
    "u, s, v=linalg.svd(transfer)\n",
    "s"
   ]
  },
  {
   "cell_type": "code",
   "execution_count": 94,
   "metadata": {},
   "outputs": [],
   "source": [
    "G=np.zeros(len(tauGrid))\n",
    "E=0.1\n",
    "for ti, t in enumerate(tauGrid):\n",
    "    G[ti]=np.exp(-E*t)/(1.0+np.exp(-E*beta))"
   ]
  },
  {
   "cell_type": "code",
   "execution_count": 95,
   "metadata": {},
   "outputs": [
    {
     "data": {
      "image/png": "[encoded data removed]",
      "text/plain": [
       "<Figure size 432x288 with 1 Axes>"
      ]
     },
     "metadata": {
      "needs_background": "light"
     },
     "output_type": "display_data"
    }
   ],
   "source": [
    "coeff=np.dot(linalg.pinv(transfer, 1.0e-12), G)\n",
    "coeff\n",
    "plt.figure()\n",
    "plt.plot(coeff)\n",
    "plt.show()"
   ]
  },
  {
   "cell_type": "code",
   "execution_count": 96,
   "metadata": {},
   "outputs": [
    {
     "data": {
      "text/plain": [
       "array([-1.63918337e-06, -1.71243007e-06, -1.81452838e-06, -1.78933682e-06,\n",
       "       -1.38819856e-06, -9.22278487e-07, -6.19454466e-07, -3.52504065e-07,\n",
       "       -2.01321932e-07, -8.30779859e-08, -3.04470965e-08, -1.78783877e-08,\n",
       "       -1.87375834e-08, -2.40855579e-08, -3.00691521e-08, -3.37096530e-08,\n",
       "       -3.56057119e-08, -3.60893585e-08, -3.64843135e-08, -3.77683173e-08,\n",
       "       -4.09973099e-08, -4.68556889e-08, -5.09536131e-08, -5.48125919e-08,\n",
       "       -6.36482202e-08, -6.96011207e-08, -7.04482601e-08, -6.77358643e-08,\n",
       "       -6.15752723e-08, -5.16170512e-08, -4.20490122e-08, -3.87544066e-08,\n",
       "       -4.45946518e-08, -6.25232109e-08, -9.59928877e-08, -2.23083120e-07,\n",
       "       -3.36825825e-07, -4.79467865e-07, -9.39721834e-07, -1.63325510e-06,\n",
       "       -2.07788560e-06, -2.55812041e-06, -3.03694789e-06])"
      ]
     },
     "execution_count": 96,
     "metadata": {},
     "output_type": "execute_result"
    }
   ],
   "source": [
    "np.dot(transfer, coeff)-G"
   ]
  },
  {
   "cell_type": "code",
   "execution_count": 97,
   "metadata": {},
   "outputs": [
    {
     "name": "stdout",
     "output_type": "stream",
     "text": [
      "0.9241401825731594 0.9241418199787566\n"
     ]
    }
   ],
   "source": [
    "result=np.sum([kernel(wGrid[wi], 0.0, beta)*coeff[wi] for wi in range(len(wGrid))])\n",
    "expect=1.0/(1.0+np.exp(-E*beta))\n",
    "print(result, expect)"
   ]
  },
  {
   "cell_type": "code",
   "execution_count": 99,
   "metadata": {},
   "outputs": [
    {
     "data": {
      "text/plain": [
       "array([ 2.97704103e-04, -8.17862044e-04,  1.62021915e-03, -5.27424049e-03,\n",
       "        1.26204777e-02, -2.11784428e-02,  2.46255576e-02, -2.99475450e-02,\n",
       "        2.59033026e-02, -2.63241552e-02,  3.90871170e-02, -3.63519728e-02,\n",
       "        2.58115548e-02, -2.14267080e-02,  3.23205584e-02, -4.81058980e-02,\n",
       "        5.46905233e-02, -4.27904657e-02,  5.79246585e-02, -8.93942534e-02,\n",
       "        6.70917467e-02, -5.32908820e-02,  9.63565115e-01,  1.12428776e-01,\n",
       "       -1.43631415e-01,  1.82053154e-01, -1.43535473e-01,  1.00543037e-01,\n",
       "       -1.21801683e-01,  1.42104537e-01, -7.48423835e-02,  3.52315477e-02,\n",
       "       -3.10701760e-02,  1.56740472e-02, -7.12630538e-03,  6.09468308e-03,\n",
       "       -4.28768942e-03,  2.88106484e-03, -1.91522927e-03,  1.04284981e-03,\n",
       "       -6.87388247e-04,  2.90522311e-04, -1.02585912e-04])"
      ]
     },
     "execution_count": 99,
     "metadata": {},
     "output_type": "execute_result"
    }
   ],
   "source": [
    "linalg.solve(transfer, G)"
   ]
  },
  {
   "cell_type": "code",
   "execution_count": 100,
   "metadata": {},
   "outputs": [],
   "source": [
    "import scipy.linalg as slinalg\n",
    "from scipy.linalg import lu_factor, lu_solve"
   ]
  },
  {
   "cell_type": "code",
   "execution_count": 101,
   "metadata": {},
   "outputs": [],
   "source": [
    "lu, piv = lu_factor(transfer)"
   ]
  },
  {
   "cell_type": "code",
   "execution_count": 102,
   "metadata": {},
   "outputs": [
    {
     "data": {
      "image/png": "[encoded data removed]",
      "text/plain": [
       "<Figure size 432x288 with 1 Axes>"
      ]
     },
     "metadata": {
      "needs_background": "light"
     },
     "output_type": "display_data"
    }
   ],
   "source": [
    "x = lu_solve((lu, piv), G)\n",
    "x\n",
    "plt.figure()\n",
    "plt.plot(x)\n",
    "plt.show()"
   ]
  },
  {
   "cell_type": "code",
   "execution_count": 103,
   "metadata": {},
   "outputs": [
    {
     "data": {
      "text/plain": [
       "array([ 3.33066907e-16,  3.33066907e-16,  2.22044605e-16,  0.00000000e+00,\n",
       "        3.33066907e-16,  4.44089210e-16,  3.33066907e-16,  2.22044605e-16,\n",
       "        4.44089210e-16,  0.00000000e+00,  3.33066907e-16,  1.11022302e-16,\n",
       "        1.11022302e-16,  2.22044605e-16,  1.11022302e-16,  2.22044605e-16,\n",
       "       -1.11022302e-16,  0.00000000e+00, -5.55111512e-17, -5.55111512e-17,\n",
       "        0.00000000e+00,  0.00000000e+00, -5.55111512e-17, -8.32667268e-17,\n",
       "       -2.77555756e-17, -2.77555756e-17,  2.77555756e-17,  0.00000000e+00,\n",
       "        0.00000000e+00, -1.38777878e-17, -2.77555756e-17,  0.00000000e+00,\n",
       "       -1.38777878e-17, -1.38777878e-17,  0.00000000e+00,  2.77555756e-17,\n",
       "        1.38777878e-17,  5.55111512e-17,  0.00000000e+00,  4.16333634e-17,\n",
       "       -6.93889390e-17,  5.55111512e-17, -1.38777878e-17])"
      ]
     },
     "execution_count": 103,
     "metadata": {},
     "output_type": "execute_result"
    }
   ],
   "source": [
    "transfer @ x - G"
   ]
  },
  {
   "cell_type": "code",
   "execution_count": null,
   "metadata": {},
   "outputs": [],
   "source": []
  },
  {
   "cell_type": "code",
   "execution_count": null,
   "metadata": {},
   "outputs": [],
   "source": []
  }
 ],
 "metadata": {
  "@webio": {
   "lastCommId": null,
   "lastKernelId": null
  },
  "kernelspec": {
   "display_name": "Python 3",
   "language": "python",
   "name": "python3"
  },
  "language_info": {
   "codemirror_mode": {
    "name": "ipython",
    "version": 3
   },
   "file_extension": ".py",
   "mimetype": "text/x-python",
   "name": "python",
   "nbconvert_exporter": "python",
   "pygments_lexer": "ipython3",
   "version": "3.7.6"
  }
 },
 "nbformat": 4,
 "nbformat_minor": 4
}
