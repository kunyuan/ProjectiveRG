{
 "cells": [
  {
   "cell_type": "code",
   "execution_count": 1,
   "metadata": {},
   "outputs": [],
   "source": [
    "using QuantumStatistics: Green"
   ]
  },
  {
   "cell_type": "code",
   "execution_count": 2,
   "metadata": {},
   "outputs": [],
   "source": [
    "using Cuba"
   ]
  },
  {
   "cell_type": "code",
   "execution_count": 3,
   "metadata": {},
   "outputs": [
    {
     "data": {
      "text/plain": [
       "0.36787944116633325"
      ]
     },
     "execution_count": 3,
     "metadata": {},
     "output_type": "execute_result"
    }
   ],
   "source": [
    "Green.bareFermi(25.0, 1.0, 1.0)"
   ]
  },
  {
   "cell_type": "code",
   "execution_count": 66,
   "metadata": {},
   "outputs": [
    {
     "data": {
      "text/plain": [
       "integrand2 (generic function with 1 method)"
      ]
     },
     "execution_count": 66,
     "metadata": {},
     "output_type": "execute_result"
    }
   ],
   "source": [
    "function Polar(k, θ, q, tau, beta, kF, μ, S)\n",
    "    kp2=(q+k*cos(θ))^2+(k*sin(θ))^2\n",
    "    p=Green.bareFermi(beta, tau, k*k-μ)*Green.bareFermi(beta, -tau, kp2-μ)/(2.0*π)^2*sin(θ)*k*k*beta*S\n",
    "    return p\n",
    "end\n",
    "\n",
    "function integrand(x, f)\n",
    "    #x[1]:k, x[2]: θ\n",
    "    f[1] = Polar(x[1]/(1 - x[1]), x[2]*π, 0.0, 1.0, 1000.0, 1.919, 1.919^2, 2)/(1 - x[1])^2*π\n",
    "end\n",
    "\n",
    "function integrand1(x, f)\n",
    "    #x[1]:k, x[2]: θ\n",
    "    f[1] = Polar(1.919+x[1]/(1 - x[1]), x[2]*π, 0.0, 1.0, 1000.0, 1.919, 1.919^2, 2)/(1 - x[1])^2*π\n",
    "end\n",
    "\n",
    "#function integrand1(x, f)\n",
    "    #x[1]:k, x[2]: θ\n",
    "#    f[1] = Polar(1.919+(1.919*2-1.919)*x[1], x[2]*π, 0.0, 1.0, 1000.0, 1.919, 1.919^2, 2)*(1.919*1)*π\n",
    "#end\n",
    "\n",
    "function integrand2(x, f)\n",
    "    #x[1]:k, x[2]: θ\n",
    "    f[1] = Polar(x[1]*1.919, x[2]*π, 0.0, 1.0, 1000.0, 1.919, 1.919^2, 2)*1.919*π\n",
    "end"
   ]
  },
  {
   "cell_type": "code",
   "execution_count": 67,
   "metadata": {},
   "outputs": [
    {
     "name": "stdout",
     "output_type": "stream",
     "text": [
      " Result of Cuba: -0.09721767275697486 ± 8.459983797176477e-12\n",
      " Result of Cuba: -0.04861798573991921 ± 4.803362711040039e-12\n",
      " Result of Cuba: -0.04859968701705565 ± 3.6566210861364364e-12\n"
     ]
    }
   ],
   "source": [
    "result1, err1 = Cuba.cuhre(integrand1, 2, 1, atol=1e-12, rtol=1e-10);\n",
    "result2, err2 = Cuba.cuhre(integrand2, 2, 1, atol=1e-12, rtol=1e-10);\n",
    "println(\" Result of Cuba: \", result1[1]+result2[1], \" ± \", err1[1]+err2[1])\n",
    "println(\" Result of Cuba: \", result1[1], \" ± \", err1[1])\n",
    "println(\" Result of Cuba: \", result2[1], \" ± \", err2[1])"
   ]
  },
  {
   "cell_type": "code",
   "execution_count": 75,
   "metadata": {},
   "outputs": [
    {
     "name": "stdout",
     "output_type": "stream",
     "text": [
      " Result of Cuba: -0.09712757744581288 ± 9.874084307475483e-6\n",
      " Result of Cuba: -0.04861317499924113 ± 9.04193827674832e-7\n",
      " Result of Cuba: -0.04851440244657175 ± 8.96989047980065e-6\n"
     ]
    }
   ],
   "source": [
    "result1, err1 = Cuba.vegas(integrand1, 2, 1, atol=1e-12, rtol=1e-10, maxevals=1e8, seed=1);\n",
    "result2, err2 = Cuba.vegas(integrand2, 2, 1, atol=1e-12, rtol=1e-10);\n",
    "println(\" Result of Cuba: \", result1[1]+result2[1], \" ± \", err1[1]+err2[1])\n",
    "println(\" Result of Cuba: \", result1[1], \" ± \", err1[1])\n",
    "println(\" Result of Cuba: \", result2[1], \" ± \", err2[1])"
   ]
  },
  {
   "cell_type": "code",
   "execution_count": 76,
   "metadata": {},
   "outputs": [
    {
     "name": "stdout",
     "output_type": "stream",
     "text": [
      " Result of Cuba: -0.09712569833279276 ± 9.866158046645322e-6\n",
      " Result of Cuba: -0.04861129588622101 ± 8.962675668446726e-7\n",
      " Result of Cuba: -0.04851440244657175 ± 8.96989047980065e-6\n"
     ]
    }
   ],
   "source": [
    "result1, err1 = Cuba.vegas(integrand1, 2, 1, atol=1e-12, rtol=1e-10, maxevals=1e8, seed=2);\n",
    "result2, err2 = Cuba.vegas(integrand2, 2, 1, atol=1e-12, rtol=1e-10);\n",
    "println(\" Result of Cuba: \", result1[1]+result2[1], \" ± \", err1[1]+err2[1])\n",
    "println(\" Result of Cuba: \", result1[1], \" ± \", err1[1])\n",
    "println(\" Result of Cuba: \", result2[1], \" ± \", err2[1])"
   ]
  },
  {
   "cell_type": "code",
   "execution_count": 74,
   "metadata": {},
   "outputs": [
    {
     "data": {
      "text/plain": [
       "Component:\n",
       " 1: -0.048554919552783134 ± 8.812595400573426e-6 (prob.: 0.9999999999999617)\n",
       "Integrand evaluations: 1007500\n",
       "Number of subregions:  0\n",
       "Note: The accuracy was not met within the maximum number of evaluations"
      ]
     },
     "execution_count": 74,
     "metadata": {},
     "output_type": "execute_result"
    }
   ],
   "source": [
    "result=Cuba.vegas(integrand1, 2, 1, atol=1e-12, rtol=1e-10, maxevals=1e6, seed=1)\n",
    "print\n",
    "Cuba.vegas(integrand1, 2, 1, atol=1e-12, rtol=1e-10, maxevals=1e6, seed=2)\n",
    "Cuba.vegas(integrand1, 2, 1, atol=1e-12, rtol=1e-10, maxevals=1e6, seed=3)"
   ]
  },
  {
   "cell_type": "code",
   "execution_count": 69,
   "metadata": {},
   "outputs": [
    {
     "data": {
      "text/plain": [
       "0.0001"
      ]
     },
     "execution_count": 69,
     "metadata": {},
     "output_type": "execute_result"
    }
   ],
   "source": [
    "1e-4"
   ]
  },
  {
   "cell_type": "code",
   "execution_count": 29,
   "metadata": {},
   "outputs": [
    {
     "name": "stdout",
     "output_type": "stream",
     "text": [
      " Result of Cuba: -6.455904112485201e-36 ± 1.5700924586837752e-16\n"
     ]
    }
   ],
   "source": [
    "result, err = Cuba.cuhre(integrand, 2, 1, atol=1e-12, rtol=1e-10);\n",
    "println(\" Result of Cuba: \", result[1], \" ± \", err[1])"
   ]
  },
  {
   "cell_type": "code",
   "execution_count": 30,
   "metadata": {},
   "outputs": [
    {
     "name": "stdout",
     "output_type": "stream",
     "text": [
      " Result of Cuba: -0.09443464722488208 ± 2.0258884170697237e-5\n"
     ]
    }
   ],
   "source": [
    "result, err = Cuba.vegas(integrand, 2, 1, atol=1e-6);\n",
    "println(\" Result of Cuba: \", result[1], \" ± \", err[1])"
   ]
  },
  {
   "cell_type": "code",
   "execution_count": 31,
   "metadata": {},
   "outputs": [
    {
     "name": "stdout",
     "output_type": "stream",
     "text": [
      " Result of Cuba: -0.0060077943819418205 ± 2.0757915905987463e-6\n"
     ]
    }
   ],
   "source": [
    "result, err = Cuba.suave(integrand, 2, 1);\n",
    "println(\" Result of Cuba: \", result[1], \" ± \", err[1])"
   ]
  },
  {
   "cell_type": "code",
   "execution_count": 44,
   "metadata": {},
   "outputs": [
    {
     "data": {
      "text/plain": [
       "35×4 Array{Float64,2}:\n",
       "  1.0  -99.9465  -0.478934   -73.0\n",
       "  2.0  -95.7867  -0.430286   -40.0\n",
       "  3.0  -88.8893  -0.383175   -29.0\n",
       "  4.0  -79.8773  -0.305554   -23.0\n",
       "  5.0  -73.3649  -0.243555   -16.0\n",
       "  6.0  -58.5164  -0.199693   -13.0\n",
       "  7.0  -52.5782  -0.159857   -11.0\n",
       "  8.0  -45.7418  -0.128317   -10.0\n",
       "  9.0  -38.3175  -0.0998466   -9.0\n",
       " 10.0  -30.5554  -0.0763884   -8.0\n",
       " 11.0  -23.449   -0.0598667   -7.0\n",
       " 12.0  -18.3412  -0.0338833   -6.0\n",
       " 13.0  -14.6291  -0.0225358   -5.0\n",
       "  ⋮                          \n",
       " 24.0   22.8709   0.0518975    6.0\n",
       " 25.0   29.2582   0.0657227    7.0\n",
       " 26.0   35.0614   0.0799285    8.0\n",
       " 27.0   41.518    0.111112     9.0\n",
       " 28.0   47.8934   0.152777    10.0\n",
       " 29.0   56.204    0.175307    12.0\n",
       " 30.0   66.964    0.199693    16.0\n",
       " 31.0   79.8773   0.256634    19.0\n",
       " 32.0   86.0572   0.305554    23.0\n",
       " 33.0   91.4836   0.350614    35.0\n",
       " 34.0   97.4218   0.430286    70.0\n",
       " 35.0   99.9465   0.46898    100.0"
      ]
     },
     "execution_count": 44,
     "metadata": {},
     "output_type": "execute_result"
    }
   ],
   "source": [
    "using DelimitedFiles\n",
    "readdlm(\"dlr/fermi/dlr100.dat\")"
   ]
  },
  {
   "cell_type": "code",
   "execution_count": 45,
   "metadata": {},
   "outputs": [
    {
     "data": {
      "text/plain": [
       "29×4 Array{Float64,2}:\n",
       "  0.0  0.0     0.0135001    0.0\n",
       "  1.0  0.021   1.04101      1.0\n",
       "  2.0  0.043   6.26406      2.0\n",
       "  3.0  0.074   6.73007      3.0\n",
       "  4.0  0.122   9.9476       4.0\n",
       "  5.0  0.192  11.3796       5.0\n",
       "  6.0  0.244  13.7586       6.0\n",
       "  7.0  0.306  19.3977       7.0\n",
       "  8.0  0.392  23.8192       8.0\n",
       "  9.0  0.495  30.0588       9.0\n",
       " 10.0  0.619  33.7633      10.0\n",
       " 11.0  0.745  40.2849      13.0\n",
       " 12.0  0.902  46.587       15.0\n",
       "  ⋮                       \n",
       " 17.0  2.386  59.7151      34.0\n",
       " 18.0  2.699  66.2367      43.0\n",
       " 19.0  3.038  69.9412      53.0\n",
       " 20.0  3.719  76.1808      61.0\n",
       " 21.0  4.86   80.6023      70.0\n",
       " 22.0  5.532  86.2414      90.0\n",
       " 23.0  6.4    88.6204     122.0\n",
       " 24.0  7.348  90.0524     150.0\n",
       " 25.0  8.403  93.2699     187.0\n",
       " 26.0  9.382  93.7359     248.0\n",
       " 27.0  9.773  98.959      336.0\n",
       " 28.0  9.999  99.9865     580.0"
      ]
     },
     "execution_count": 45,
     "metadata": {},
     "output_type": "execute_result"
    }
   ],
   "source": [
    "dlr=[0 0.0 0.013500135001351055 0\n",
    "1 0.021 1.041010410104107 1\n",
    "2 0.043000000000000003 6.264062640626413 2\n",
    "3 0.074 6.730067300673014 3\n",
    "4 0.122 9.947599475994764 4\n",
    "5 0.192 11.379613796137967 5\n",
    "6 0.244 13.758637586375869 6\n",
    "7 0.306 19.39769397693977 7\n",
    "8 0.392 23.819238192381924 8\n",
    "9 0.495 30.058800588005887 9\n",
    "10 0.619 33.76333763337634 10\n",
    "11 0.745 40.284902849028484 13\n",
    "12 0.902 46.5869658696587 15\n",
    "13 1.081 49.27799277992781 18\n",
    "14 1.2790000000000001 50.0 21\n",
    "15 1.562 50.72200722007219 24\n",
    "16 1.944 53.4130341303413 28\n",
    "17 2.386 59.71509715097151 34\n",
    "18 2.699 66.23666236662366 43\n",
    "19 3.0380000000000003 69.9411994119941 53\n",
    "20 3.719 76.18076180761808 61\n",
    "21 4.86 80.60230602306022 70\n",
    "22 5.532 86.24136241362413 90\n",
    "23 6.4 88.62038620386203 122\n",
    "24 7.348 90.05240052400522 150\n",
    "25 8.403 93.269932699327 187\n",
    "26 9.382 93.7359373593736 248\n",
    "27 9.773 98.95898958989589 336\n",
    "28 9.999 99.98649986499865 580]"
   ]
  },
  {
   "cell_type": "code",
   "execution_count": 48,
   "metadata": {},
   "outputs": [
    {
     "data": {
      "text/plain": [
       "0.013500135001351055"
      ]
     },
     "execution_count": 48,
     "metadata": {},
     "output_type": "execute_result"
    }
   ],
   "source": [
    "dlr[1,3]"
   ]
  },
  {
   "cell_type": "code",
   "execution_count": null,
   "metadata": {},
   "outputs": [],
   "source": []
  }
 ],
 "metadata": {
  "@webio": {
   "lastCommId": null,
   "lastKernelId": null
  },
  "kernelspec": {
   "display_name": "Julia 1.4.2",
   "language": "julia",
   "name": "julia-1.4"
  },
  "language_info": {
   "file_extension": ".jl",
   "mimetype": "application/julia",
   "name": "julia",
   "version": "1.4.2"
  }
 },
 "nbformat": 4,
 "nbformat_minor": 4
}
