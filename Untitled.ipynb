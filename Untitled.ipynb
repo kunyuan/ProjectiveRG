{
 "cells": [
  {
   "cell_type": "code",
   "execution_count": 1,
   "metadata": {},
   "outputs": [],
   "source": [
    "import numpy as np\n",
    "import matplotlib.pyplot as plt"
   ]
  },
  {
   "cell_type": "code",
   "execution_count": 2,
   "metadata": {},
   "outputs": [],
   "source": [
    "def kernel(E, tau, beta):\n",
    "    x = beta*E / 2\n",
    "    y = 2.0*tau / beta - 1\n",
    "    if -100.0 < x < 100.0:\n",
    "        G = np.exp(-x * y) / (2 * np.cosh(x))\n",
    "    elif x >= 100.0:\n",
    "        G = np.exp(-x * (y + 1))\n",
    "    else: # x<=-100.0\n",
    "        G = np.exp(x * (1 - y))\n",
    "    return G"
   ]
  },
  {
   "cell_type": "code",
   "execution_count": null,
   "metadata": {},
   "outputs": [],
   "source": []
  }
 ],
 "metadata": {
  "kernelspec": {
   "display_name": "Python 3",
   "language": "python",
   "name": "python3"
  },
  "language_info": {
   "codemirror_mode": {
    "name": "ipython",
    "version": 3
   },
   "file_extension": ".py",
   "mimetype": "text/x-python",
   "name": "python",
   "nbconvert_exporter": "python",
   "pygments_lexer": "ipython3",
   "version": "3.7.6"
  }
 },
 "nbformat": 4,
 "nbformat_minor": 4
}
